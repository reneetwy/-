{
 "cells": [
  {
   "cell_type": "markdown",
   "id": "adjusted-netscape",
   "metadata": {},
   "source": [
    "# Task 1 : Use a module ⏰\n",
    "1. Try to use a module called \"datetime\" to check how long your project run.\n",
    "2. First, **import datetime**.\n",
    "3. Then assign the current time to a variable called **now**.\n",
    "    ```python\n",
    "        now = datetime.datetime.now()\n",
    "    ```\n",
    "4. Restrict the time format as - hour:minute:second  \n",
    "    ```python\n",
    "        current_time = now.strftime(\"%H:%M:%S\")\n",
    "    ```\n",
    "5. Print current_time:\n",
    "    ```python\n",
    "        print(current_time)\n",
    "    ```\n",
    "    \n"
   ]
  },
  {
   "cell_type": "code",
   "execution_count": null,
   "id": "precious-function",
   "metadata": {},
   "outputs": [],
   "source": [
    "\n",
    "\n"
   ]
  },
  {
   "cell_type": "markdown",
   "id": "weighted-fleece",
   "metadata": {},
   "source": [
    "# Task 2 : Write your module. 🎒\n",
    "### STEP 1️⃣: Create a New File\n",
    "1. Create a new jupyter notebook file by clicking the **'File' ->'New Notebook' ->'Python 3'**.\n",
    "2. Rename the file by clicking its original title 'Untitle'. Name it **'\\_\\_init\\_\\_'**.\n",
    "3. Write a **function** called **'repeat(word)'**. \n",
    "    ```\n",
    "    What the function can do:\n",
    "        Print your word for three times.\n",
    "    Example:if you give it a word \"Three\", it prints the following:\n",
    "        Three\n",
    "        Three\n",
    "        Three\n",
    "    ```\n",
    "    \n",
    "    - Hint:\n",
    "    ```python\n",
    "        def function_name(parameter):\n",
    "            #code\n",
    "    ```\n",
    "4. Save the file by clicking **'File' ->'Download as' ->'Python(.py)'**\n",
    "5. Open **Python Challenges** folder (your python learning folder) -> create a folder named **'MyFunction'** (folder inside Challenges folder).\n",
    "6. Put your **'\\_\\_init\\_\\_.py**' file into the folder **'MyFunction'**.\n",
    "\n"
   ]
  },
  {
   "cell_type": "markdown",
   "id": "driven-processing",
   "metadata": {},
   "source": [
    "### STEP 2️⃣: Run your Function (in a wrong way)\n",
    "1. Type **MyFunction.repeat(\"Test\")** to run your function.\n",
    "2. See what error occurs.\n"
   ]
  },
  {
   "cell_type": "code",
   "execution_count": null,
   "id": "rapid-discharge",
   "metadata": {},
   "outputs": [],
   "source": []
  },
  {
   "cell_type": "markdown",
   "id": "computational-cleveland",
   "metadata": {},
   "source": [
    "### STEP 3️⃣: Run your Function\n",
    "1. **import MyFunction**, which is your own module.\n",
    "2. Type **MyFunction.repeat(\"Test\")** to run your function.\n"
   ]
  },
  {
   "cell_type": "code",
   "execution_count": null,
   "id": "annoying-assistant",
   "metadata": {},
   "outputs": [],
   "source": [
    "\n"
   ]
  }
 ],
 "metadata": {
  "kernelspec": {
   "display_name": "Python 3",
   "language": "python",
   "name": "python3"
  },
  "language_info": {
   "codemirror_mode": {
    "name": "ipython",
    "version": 3
   },
   "file_extension": ".py",
   "mimetype": "text/x-python",
   "name": "python",
   "nbconvert_exporter": "python",
   "pygments_lexer": "ipython3",
   "version": "3.8.5"
  }
 },
 "nbformat": 4,
 "nbformat_minor": 5
}
