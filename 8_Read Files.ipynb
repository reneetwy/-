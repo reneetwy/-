{
 "cells": [
  {
   "cell_type": "markdown",
   "id": "beginning-portuguese",
   "metadata": {},
   "source": [
    "# Task 1😈\n",
    "## GOAL: Let's create a fun story together by everyone adding 1 line!\n",
    "\n",
    "\n",
    "### STEP 1 Create the begining of the story\n",
    "\n",
    "- Load the **\"Story.txt\"** in **a write mode (the file can be overwritten)**.\n",
    "```\n",
    "    🔑Hint: open(\"filename.txt\",\"w\")\n",
    "```\n",
    "- **Write** 1 sentence as the begining of the story in the **'Story.txt'** (i.e. A boy is missing in a train)\n",
    "```\n",
    "    🔑Hint: file.write(\"A boy is missing in a train\")\n",
    "```\n",
    "\n",
    "### STEP 2 Add 1 line to your friend's story\n",
    "\n",
    "👽Now the game is on! You will move to the computer next to you and write a sentence to finish the story!(you have 1 min to do so) We will repeat a few time until you have written a line on everyone's computer!  \n",
    "\n",
    "- **Append** 1 sentence to the stroy.\n",
    "\n",
    "```\n",
    "    🔑Hint: Don't forget everytime you append a sentence, you will also need the 'append' command. Example: \n",
    "```\n",
    "```python   \n",
    "story = open ('Story.txt', 'a')\n",
    "story.write(\"His parents are looking for him.\")\n",
    "```\n",
    "\n",
    "### STEP 3 Open the story file to see what you have created \n",
    "\n",
    "🤪Once you are back to your own computer, use .read() to read the full story contributed by the whole class! \n",
    "- **Open** the file in **read-only** mode to read and **print** the file **as you do in last task**.\n",
    "\n",
    "🤠The power of collaboration - You started the begining, but I bet you had no clue how your story ends! "
   ]
  },
  {
   "cell_type": "code",
   "execution_count": null,
   "id": "stuffed-section",
   "metadata": {},
   "outputs": [],
   "source": [
    "\n"
   ]
  },
  {
   "cell_type": "markdown",
   "id": "weighted-fleece",
   "metadata": {},
   "source": [
    "# Task 2🥁\n",
    "## GOAL: To write a simple module.\n",
    "### STEP 1 Create a New File:\n",
    "1. Create a new jupyter notebook file by clicking the **'File' ->'New Notebook' ->'Python 3'**.\n",
    "2. Rename the file by clicking its original title 'Untitle'. Name it **'\\_\\_init\\_\\_'**.\n",
    "3. Write a **function** called **'repeat(word)'**. \n",
    "    ```\n",
    "    What the function can do:\n",
    "        Print your word for three times.\n",
    "    Example:if you give it a word \"Three\", it prints the following:\n",
    "        Three\n",
    "        Three\n",
    "        Three\n",
    "    ```\n",
    "4. Save the file by clicking **'File' ->'Download as' ->'Python(.py)'**\n",
    "5. Open **Challenges**(your python learning folder) -> **'MyFunction'** (folder inside Challenges folder).\n",
    "6. Put the **'\\_\\_init\\_\\_.py**' file into the folder **'MyFunction'**.\n",
    "\n",
    "### STEP 2 Run your Function:\n",
    "1. **import MyFunction**, which is your own module.\n",
    "2. Type MyFunction.repeat(\"Test\") to run your function!"
   ]
  },
  {
   "cell_type": "code",
   "execution_count": null,
   "id": "naval-surfing",
   "metadata": {},
   "outputs": [],
   "source": [
    "\n"
   ]
  },
  {
   "cell_type": "markdown",
   "id": "caroline-hayes",
   "metadata": {},
   "source": [
    "# Task 3🎷\n",
    "## GOAL: Write a **function** named 'createFile(fileName,text)' in your '\\_\\_init\\_\\_.py' file to **create a file and print it automatically**.\n",
    "### STEP 1: Open your '__init__.py' file.\n",
    "1. Click **'File' ->'Open...' ->** The folder **'MyFunction' ->** The file **'\\_\\_init\\_\\_.py'** inside the folder.\n",
    "2. You need to find the 'MyFunction' folder in the list. If you cannot find it, ask for help.\n",
    "\n",
    "⚠️ Please make sure you open the .py file, not the .ipynb file!\n",
    "\n",
    "\n",
    "### STEP 2: Write the 'createFile' function inside the '\\_\\_init\\_\\_.py'.\n",
    "\n",
    "```\n",
    "    🔑Hint: Define a function and use .write() in the function (You know how to write it in Task 1)\n",
    "```\n",
    "\n",
    "### STEP 3: Import module and run the 'overwrite' function.\n",
    "\n",
    "1. import MyFunction, which is your own module.\n",
    "2. Type MyFunction.createFile('change_to_any_file_name', 'any_content') to run the function\n",
    "3. Open the file\n",
    "\n",
    "### WARNING:\n",
    "```\n",
    "        1. You cannot run the code inside the .py file. \n",
    "        2. Run it by using the function in this page.\n",
    "        3. Remember to use the following code to call the function:\n",
    "            \n",
    "                    MyFunction.createFile(fileName,text)\n",
    "                    \n",
    "        4. You need to refresh the kernal by pressing \"Kernel -> Restart\" \n",
    "            everytime you change your '__init__.py' file.\n",
    "```\n"
   ]
  },
  {
   "cell_type": "code",
   "execution_count": null,
   "id": "proper-belarus",
   "metadata": {},
   "outputs": [],
   "source": []
  }
 ],
 "metadata": {
  "kernelspec": {
   "display_name": "Python 3",
   "language": "python",
   "name": "python3"
  },
  "language_info": {
   "codemirror_mode": {
    "name": "ipython",
    "version": 3
   },
   "file_extension": ".py",
   "mimetype": "text/x-python",
   "name": "python",
   "nbconvert_exporter": "python",
   "pygments_lexer": "ipython3",
   "version": "3.8.5"
  }
 },
 "nbformat": 4,
 "nbformat_minor": 5
}
