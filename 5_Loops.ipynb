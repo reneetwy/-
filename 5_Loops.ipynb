{
 "cells": [
  {
   "cell_type": "markdown",
   "id": "naked-quarter",
   "metadata": {},
   "source": [
    "# Task 1\n",
    "\n",
    "\n",
    "### 💎Keys: while loop, operation, print\n",
    "- Assign a **variable** called 'num' to be 10.\n",
    "- Use a **while loop** to reduce 10 by 1 until it becomes 0.\n",
    "- **Print** every number when it minus 1.\n",
    "    ```\n",
    "    result:\n",
    "    9\n",
    "    8\n",
    "    7\n",
    "    6\n",
    "    5\n",
    "    4\n",
    "    3\n",
    "    2\n",
    "    1\n",
    "    0\n",
    "    ```\n",
    "    \n",
    "\n",
    "- **Hint:**\n",
    "    - We use **while** loop here. We will break the loop when the **num** variable is **not >0**.\n",
    "    - You can use the operation code **a = a -1** in the loop to minus 1.\n",
    "    - Use **print()** in the loop. Remember to put the variable to print inside the bracket.\n"
   ]
  },
  {
   "cell_type": "code",
   "execution_count": null,
   "id": "logical-matrix",
   "metadata": {},
   "outputs": [],
   "source": [
    "\n",
    "\n"
   ]
  },
  {
   "cell_type": "markdown",
   "id": "wrong-ability",
   "metadata": {},
   "source": [
    "# Task 2\n",
    "\n",
    "### 💎Keys: for loop, list, print\n",
    "1. **create a list** called \"friends\" and put the name of your friend in it (at least 5).\n",
    "2. **Print** the names in the list one by one using a for loop.\n",
    "```\n",
    "    Example:\n",
    "    aList=[\"A\",\"B\",\"C\",\"D\"]\n",
    "```\n",
    "- **Hint:**\n",
    "    - Remember the names of your friends are **string**.\n",
    "    - Use **print()** in the loop. Remember to add the variable to print inside the **print()**.\n"
   ]
  },
  {
   "cell_type": "code",
   "execution_count": null,
   "id": "commercial-generation",
   "metadata": {},
   "outputs": [],
   "source": [
    "\n",
    "\n",
    "\n",
    "\n",
    "\n",
    "\n"
   ]
  },
  {
   "cell_type": "markdown",
   "id": "rotary-carnival",
   "metadata": {},
   "source": [
    "# Task 3\n",
    "\n",
    "### 💎Keys: while loop, list, print\n",
    "1. Create a **variable** called **number** and assign value **0** to it.\n",
    "2. Create an empty **list** called **numbers**.\n",
    "3. Create a while loop to **add numbers 1 to 10** into the list **numbers**.\n",
    "\n",
    "    ```\n",
    "    result:\n",
    "    [1,2,3,4,5,6,7,8,9,10]\n",
    "    ```\n",
    "\n",
    "\n",
    "- Hint: \n",
    "    - This is how to create an empty list:\n",
    "        - list_name = []\n",
    "    - We use **while loop** in this task. The loop will repeat until the variable **number not <= 10**.\n",
    "    - We can use **number = number+1** to add 1 to the variable **number** in the loop.\n",
    "    - Use **append()** function to add the result (which is the variable **number**) into the list one by one in the loop.\n",
    "\n"
   ]
  },
  {
   "cell_type": "code",
   "execution_count": null,
   "id": "therapeutic-creek",
   "metadata": {},
   "outputs": [],
   "source": [
    "\n",
    "\n",
    "\n",
    "\n",
    "\n"
   ]
  },
  {
   "cell_type": "markdown",
   "id": "tender-broadway",
   "metadata": {},
   "source": [
    "# Task 4 Improve the GuessCatAge() game!\n",
    "\n",
    "### 💎Keys: while loop, if statement, random, function, print\n",
    "\n",
    "    \n",
    "## What you need to do:\n",
    "Add a loop in the function to keep the program running until you guess the age right!\n",
    "\n",
    "\n",
    "## Step 0: Preparation \n",
    "1. See the codes below which we have done in Unit 3 Team Mission.\n",
    "2. Remove the parameter **guess** in the brackets. (Because we will take user input this time)\n",
    "\n",
    "## Step 1: Improve the codes\n",
    "1. Write a **while loop**\n",
    "2. Inside the loop, take user guess using **input()**. Create a guess variable and assign an input function with **\"What's your guess?\"** in the brackets to it. \n",
    "2. Inside the loop, put the **if statements**.\n",
    "3. Add a **break** keyword under the situation when **age == guess**.\n",
    "\n",
    "- Hint: \n",
    "    - **break** is a keyword that can stop a loop!\n",
    "    - Be careful with the **indentation**!!!!\n",
    "    - **input()** function always return string data. In order to compare guess (string) to age (int), you will need **int()** to convert guess data to integer. 🤓\n",
    "\n"
   ]
  },
  {
   "cell_type": "code",
   "execution_count": null,
   "id": "resident-armenia",
   "metadata": {},
   "outputs": [],
   "source": [
    "\n",
    "\n",
    "    "
   ]
  },
  {
   "cell_type": "code",
   "execution_count": null,
   "id": "norman-patient",
   "metadata": {},
   "outputs": [],
   "source": []
  }
 ],
 "metadata": {
  "kernelspec": {
   "display_name": "Python 3",
   "language": "python",
   "name": "python3"
  },
  "language_info": {
   "codemirror_mode": {
    "name": "ipython",
    "version": 3
   },
   "file_extension": ".py",
   "mimetype": "text/x-python",
   "name": "python",
   "nbconvert_exporter": "python",
   "pygments_lexer": "ipython3",
   "version": "3.8.5"
  }
 },
 "nbformat": 4,
 "nbformat_minor": 5
}
