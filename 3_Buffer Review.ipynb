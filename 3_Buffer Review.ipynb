{
 "cells": [
  {
   "cell_type": "markdown",
   "id": "placed-restriction",
   "metadata": {},
   "source": [
    "# Task 1: Check input.\n",
    "1. Ask user to input a their grade.\n",
    "    - **Hint:**\n",
    "    - **input()** is the method you will use.\n",
    "    - **input(\"replace_here_with_your_question\")**: you will put your question inside the bracket(it is a string). When it works, it will look like:\n",
    "    ```      \n",
    "                      _________________________________\n",
    "        your_question|_________________________________|\n",
    "    ```\n",
    "    - if you still have problems with **input()**, try to google the keyword *python input()* to learn how to use the method - **input()**.\n",
    "    \n",
    "2. Store user input into a variable called 'grade' \n",
    "    - **Hint:**\n",
    "    - The variable name is **grade**.\n",
    "    - Use **=** to assign the user input to the variable **grade**.\n",
    "    \n",
    "3. Print the variable **grade**.\n",
    "\n",
    "### 💎Keys: variable, assignment, input(), string, print() "
   ]
  },
  {
   "cell_type": "code",
   "execution_count": null,
   "id": "suffering-geometry",
   "metadata": {},
   "outputs": [],
   "source": []
  },
  {
   "cell_type": "markdown",
   "id": "hearing-turning",
   "metadata": {},
   "source": [
    "# Task 2: Write an if statement.\n",
    "1. What is **if statement**?\n",
    "    ```python \n",
    "    if statement is true:\n",
    "        do something\n",
    "        \n",
    "    elif statement_2 is true:\n",
    "        do something\n",
    "        \n",
    "    else:\n",
    "        do something\n",
    "    ```\n",
    "    - **Hint:**\n",
    "    - The **statement** is an event that will be true or false.\n",
    "    - Such as: \n",
    "        - grade == \"1\"\n",
    "        - word == \"Hello\"\n",
    "        - random_number >= 1\n",
    "    - If the statement is true, the **code in the next line** with an indentation will be executed.\n",
    "        \n",
    "        \n",
    "2. Write an **if statement** following the instructions below:\n",
    "    1. First, use **input()** to ask the user for input. You should write \"What do you want to drink?\" inside the brackets. \n",
    "    \n",
    "    2. Store the input in a variable called **drinks**.\n",
    "    \n",
    "    3. Use **if statement** to check what is inside the variable **drinks**.\n",
    "    \n",
    "        1. If the **drinks** is \"coffee\", print \"10 yuan.\".\n",
    "    \n",
    "        2. If the **drinks** is \"water\", print \"2 yuan.\".\n",
    "    \n",
    "    6. You can add other type of drinks in your **if statement** if you want to.\n",
    "    \n",
    "3. Test your code.\n",
    "\n",
    "### 💎Keys: variable, assignment, input(), if statement, compare, print()\n",
    "    "
   ]
  },
  {
   "cell_type": "code",
   "execution_count": null,
   "id": "portuguese-steel",
   "metadata": {},
   "outputs": [],
   "source": [
    "\n"
   ]
  },
  {
   "cell_type": "markdown",
   "id": "comic-variable",
   "metadata": {},
   "source": [
    "# Task 3: Write a function named 'MyFavoriteCountry'.\n",
    "1. Write a comment to explain what is this function for.\n",
    "    - **Hint:**\n",
    "        - use **#**.\n",
    "        - This function is to ask the user which country is his/her favorite.\n",
    "2. Write the function.\n",
    "    - **Hint:**\n",
    "        - To define a function:\n",
    "            ```python\n",
    "            def function_name(parameter_name)\n",
    "            ```\n",
    "        - use **def**.\n",
    "        - the function name is **MyFavoriteCountry**.\n",
    "        - use **country** as the parameter name (a variable name inside the brackets of the function).\n",
    "        - the function will **print** the parameter **country**.\n",
    "3. Call the function.\n",
    "    - **Hint:**\n",
    "        - call the function, with the **string** of your favorite country's name inside the brackets."
   ]
  },
  {
   "cell_type": "code",
   "execution_count": null,
   "id": "extensive-pitch",
   "metadata": {},
   "outputs": [],
   "source": [
    "\n",
    "\n"
   ]
  },
  {
   "cell_type": "markdown",
   "id": "intended-tender",
   "metadata": {},
   "source": [
    "# Task 4: Write an if statement inside a function.\n",
    "0. import random\n",
    "1. Create a function called **GuessCatAge**, with a parameter called **guess**.\n",
    "    - **Hints:** Refer to Task 3 about how to define a function.\n",
    "2. This function will check if your guess is right or wrong. There is an example:\n",
    "    ```python\n",
    "    #If you call the function, the function will check if your guess and gives you hint.For example, if the cat is 5 years old and your guess is 10, it will print \"Take a smaller guess\"\n",
    "    GuessCatAge(10)\n",
    "    ```\n",
    "    ```\n",
    "    Print: Take a smaller guess!\n",
    "\n",
    "    ```\n",
    "3. Inside the function:\n",
    "    1. We first use a variable called **age** to store a random number returned by the code **random.randint(0,40)**.\n",
    "    2. Then we will write an **if statement** to check if the parameter **guess** equal to the variable **age**.\n",
    "        1. If they are equal, print \"You guess it right!\".\n",
    "        2. If the guess is greater than the age, print \"Take a smaller guess!\"\n",
    "        3. If the guess is smaller than the age, print \"Take a bigger number!\"\n",
    "        - **Hints:** :Refer to Task 2 about how to write if statements.\n",
    "4. Run the function with your guess!\n"
   ]
  },
  {
   "cell_type": "code",
   "execution_count": null,
   "id": "vocational-terrain",
   "metadata": {},
   "outputs": [],
   "source": [
    "\n",
    "\n",
    "\n",
    "\n",
    "\n"
   ]
  }
 ],
 "metadata": {
  "kernelspec": {
   "display_name": "Python 3",
   "language": "python",
   "name": "python3"
  },
  "language_info": {
   "codemirror_mode": {
    "name": "ipython",
    "version": 3
   },
   "file_extension": ".py",
   "mimetype": "text/x-python",
   "name": "python",
   "nbconvert_exporter": "python",
   "pygments_lexer": "ipython3",
   "version": "3.8.5"
  }
 },
 "nbformat": 4,
 "nbformat_minor": 5
}
