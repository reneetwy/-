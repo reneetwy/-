{
 "cells": [
  {
   "cell_type": "markdown",
   "id": "welcome-general",
   "metadata": {},
   "source": [
    "# Task 1: Create a class called 'People'. 💂🏻‍♀️\n",
    "1. Create a class called 'People'.\n",
    "    ```python\n",
    "    class People:\n",
    "        def __init__(parameter):\n",
    "            #assignments for multiple variables.\n",
    "            \n",
    "    ```\n",
    "2. Complete the ```def __init__(parameter)``` function.\n",
    "    1. Replace the ```parameter``` with the following parameters:\n",
    "        ```\n",
    "        self,name\n",
    "        ```\n",
    "    2. Replace the ```#assignments for multiple variable``` with the following assignments:\n",
    "        ```python\n",
    "        self.name = name\n",
    "        ```\n",
    "3. Create a new function ```def Print_Name(parameter)```.\n",
    "    1. The function should look like:\n",
    "        ```python\n",
    "        def Print_Name(parameter):\n",
    "            #code for Print_Name function\n",
    "        ```\n",
    "        - The function has the **same indentation** as ```def __init__(parameter)```.\n",
    "    2. Replace the ```parameter``` with:\n",
    "        ```\n",
    "        self\n",
    "        ```\n",
    "    3. Replace ```#code for Print_Name function``` with:\n",
    "        ```python\n",
    "        print(\"I am\", self.name)\n",
    "        ```\n",
    "        "
   ]
  },
  {
   "cell_type": "code",
   "execution_count": null,
   "id": "portable-value",
   "metadata": {},
   "outputs": [],
   "source": [
    "\n",
    "    "
   ]
  },
  {
   "cell_type": "markdown",
   "id": "useful-stationery",
   "metadata": {},
   "source": [
    "# Task 2: Create instance of class 'People'. 👻\n",
    "\n",
    "-  Create an instance using the class 'People'.\n",
    "    1. Create an instance:\n",
    "        - We can do it like how we create variable and assign value.\n",
    "        ```python\n",
    "        Tom = People(\"Tom\")\n",
    "        ```\n",
    "        \n",
    "    2. Call the Print_Name function:\n",
    "        ```python\n",
    "           Tom.Print_Name()\n",
    "        ```"
   ]
  },
  {
   "cell_type": "code",
   "execution_count": null,
   "id": "informational-foster",
   "metadata": {},
   "outputs": [],
   "source": [
    "\n",
    "\n"
   ]
  },
  {
   "cell_type": "markdown",
   "id": "stopped-field",
   "metadata": {},
   "source": [
    "# Task 3: Create a child class called 'Baby'. 👶🏻\n",
    "1. The class 'Baby' is the **child class** of the class 'People'. It will look like this:\n",
    "    ```python\n",
    "    class Baby(People):\n",
    "        #code for the class\n",
    "    ```\n",
    "2. The class 'Baby' has no difference with the parent class 'People', so we can inherit directly and add a 'pass' inside the class.\n",
    "    - Replace the ```#code for the class``` with the following key word:\n",
    "    ```python\n",
    "    pass\n",
    "    ```\n",
    "    - Don't forget the indentation.\n",
    "\n",
    "3. Create the instance for the child class 'Baby'. Example:\n",
    "    ```python \n",
    "     angela = Baby(\"angela\")\n",
    "    ```\n",
    "4. Call the print name function. Example:\n",
    "    ```python\n",
    "     angela.Print_Name()\n",
    "    ```\n",
    "    \n",
    "    \n",
    "    "
   ]
  },
  {
   "cell_type": "code",
   "execution_count": null,
   "id": "beneficial-poland",
   "metadata": {},
   "outputs": [],
   "source": [
    "\n",
    "\n",
    "\n"
   ]
  },
  {
   "cell_type": "markdown",
   "id": "atmospheric-angle",
   "metadata": {},
   "source": [
    "# Task 4: Create a child class called 'Student'. 🏫\n",
    "\n",
    "1. The class 'Student' is also a **child class** of the parent class 'People'.\n",
    "    ```python\n",
    "    class Student(People):\n",
    "        #code for the class\n",
    "    ```\n",
    "2. Different from the child class 'Baby', the class 'Student' has some differences with their parent class 'People'.  Therefore, we cannot use 'pass' to fill the class simply. \n",
    "    1. First, we should create the ```def __init__(parameter)``` function for it.\n",
    "    ```python\n",
    "        class Student(People):\n",
    "            def __init__(parameter):\n",
    "            #assignment\n",
    "    ```\n",
    "    2. Then complete the function ```def __init__(parameter)```.\n",
    "        \n",
    "        - As a student, we have student ID, which is different from the normal people.\n",
    "        - So we first replace ```parameter``` with:\n",
    "        ```python\n",
    "        self,name,student_ID\n",
    "        ```\n",
    "        - Then replace the ```#assignment``` with:\n",
    "        ```python\n",
    "        super().__init__(name)\n",
    "        self.student_ID = student_ID\n",
    "        ```\n",
    "        - The code ```super().__init__(name)``` is the ```def __init__(parameter)``` function from the parent class 'People'. \n",
    "            - We can use it to inherit the assignments from the parent instead of write them again.\n",
    "    3. Create a new function for the child class 'Student'\n",
    "        - Since we have an extra variable 'student_ID' in our child class, we have to create a new function to print it out!.\n",
    "        ```python\n",
    "        def Print_SID():\n",
    "            #code for the function\n",
    "        ```\n",
    "        - Replace ```#code for the function``` with:\n",
    "            ```python\n",
    "            print(self.student_ID)\n",
    "            ```\n",
    "    "
   ]
  },
  {
   "cell_type": "code",
   "execution_count": 44,
   "id": "breathing-river",
   "metadata": {},
   "outputs": [],
   "source": [
    "\n",
    "\n"
   ]
  },
  {
   "cell_type": "markdown",
   "id": "detailed-mystery",
   "metadata": {},
   "source": [
    "\n",
    "# Run the codes below ▷\n",
    "If there's no error message, your codes work! ✅"
   ]
  },
  {
   "cell_type": "code",
   "execution_count": 46,
   "id": "developing-resident",
   "metadata": {},
   "outputs": [
    {
     "name": "stdout",
     "output_type": "stream",
     "text": [
      "Peggy\n",
      "123456\n"
     ]
    }
   ],
   "source": [
    "Peggy = Student(\"Peggy\",123456)\n",
    "Peggy.Print_Name()\n",
    "Peggy.Print_SID()"
   ]
  },
  {
   "cell_type": "code",
   "execution_count": null,
   "id": "static-oasis",
   "metadata": {},
   "outputs": [],
   "source": []
  }
 ],
 "metadata": {
  "kernelspec": {
   "display_name": "Python 3",
   "language": "python",
   "name": "python3"
  },
  "language_info": {
   "codemirror_mode": {
    "name": "ipython",
    "version": 3
   },
   "file_extension": ".py",
   "mimetype": "text/x-python",
   "name": "python",
   "nbconvert_exporter": "python",
   "pygments_lexer": "ipython3",
   "version": "3.8.5"
  }
 },
 "nbformat": 4,
 "nbformat_minor": 5
}
