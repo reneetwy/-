{
 "cells": [
  {
   "cell_type": "markdown",
   "id": "passive-cooking",
   "metadata": {},
   "source": [
    "# Task 1: Create a list. ⭐️\n",
    "\n",
    "### 💎Keys: list, index, assignment, string, print() \n",
    "List is a data type that contains multiple values. Index of the first item in a list is 0️⃣ !\n",
    "\n",
    "1. The list that we will create in this task:\n",
    "    - Name of the list variable:\n",
    "        - **games**\n",
    "    - What values does it have?\n",
    "        - It contains 🔟 names of the video game that you know.        \n",
    "    - The data type of the game names:\n",
    "        - **string**\n",
    "2. Print the **first** name inside the list after creating the list:\n",
    "    - print(list_name[0])\n",
    "\n",
    "- **Hint:**\n",
    "    - Name of the video games should be **string**.\n",
    "    - An example of how to create a list:\n",
    "    ```python\n",
    "        teachers = [\"Renee\",\"Harley\",\"Eamon\",\"Jadon\",\"Brady\",\"MingHin\",\"Chris\",\"Eason\",\"Alan\",\"Ricky\",\"Issac\"]\n",
    "    ```"
   ]
  },
  {
   "cell_type": "code",
   "execution_count": null,
   "id": "practical-leeds",
   "metadata": {},
   "outputs": [],
   "source": [
    "\n",
    "\n",
    "\n"
   ]
  },
  {
   "cell_type": "markdown",
   "id": "varied-recommendation",
   "metadata": {},
   "source": [
    "# Task 2: Add new item inside the list. ⭐️\n",
    "\n",
    "### 💎Keys: list, append(), print() \n",
    "1. Print your **games** list created in Task 1.\n",
    "3. Use **append()** to add new game in your **games** list.\n",
    "4. Print the list again.\n",
    "\n",
    "- **Hint:**\n",
    "    - Put a game name (need to be a **string**) inside the brackets of **append()** to add a new name inside the **games** list."
   ]
  },
  {
   "cell_type": "code",
   "execution_count": null,
   "id": "adverse-robert",
   "metadata": {},
   "outputs": [],
   "source": [
    "\n",
    "\n",
    "\n"
   ]
  },
  {
   "cell_type": "markdown",
   "id": "useful-motorcycle",
   "metadata": {},
   "source": [
    "# Task 3: Remove items inside the list. ⭐️⭐️\n",
    "\n",
    "### 💎Keys: list, remove(), pop(), print() \n",
    "1. Store the length of the list (**len()** to check how many elements in a list) in variable **len1** and print it. \n",
    "\n",
    "2. Use **remove()** to remove a game name in your **games** list.\n",
    "    - You can remove any name you want.\n",
    "3. Use **pop()** to remove a game name in your **games** list.\n",
    "    - You can remove any name you want.\n",
    "4. Store the length of the list (**len()** to check how many elements in a list) in variable **len2** and print it. \n",
    "    - if your step 2 and 3 are successful, len2 is less than len1 by 2. (remove 2 elements in the list)\n",
    "    \n",
    "- **Hint:**\n",
    "    - How to use **remove()**:\n",
    "        - Write the name that you want to remove in the brackets of **remove()**.\n",
    "    - How to use **pop()**:\n",
    "        - Put the index of the name in your **games** list into the brackets of **pop()**.\n",
    "        "
   ]
  },
  {
   "cell_type": "code",
   "execution_count": null,
   "id": "cordless-breeding",
   "metadata": {},
   "outputs": [],
   "source": [
    "\n",
    "\n",
    "\n"
   ]
  },
  {
   "cell_type": "markdown",
   "id": "perceived-lincoln",
   "metadata": {},
   "source": [
    "# Task 4: Find a name in your list. ⭐️⭐️⭐️\n",
    "\n",
    "### 💎Keys: input(), boolean, for loop, list, if statement, print()   \n",
    "If you don't know what is in the **games** list and you want to check if your favourite game is in it, how can you check using codes? 🤔\n",
    "\n",
    "You can **for loop** to check every name in your list!\n",
    "\n",
    "\n",
    "1. Use **input()** to ask for the game you want to check and store it in a variable **gameTocheck**. \n",
    "2. Create a variable **check** and assign **False** as the value by default. \n",
    "3. Write a **for loop** to check every name in the list with **gameTocheck** (the game you want to check).\n",
    "4. If **gameTocheck** (the game you want to check) is aready in the **games** list, print **\"The game is there!\"**.\n",
    "5. If **gameTocheck** (the game you want to check) is NOT in the **games** list, add the game to the list and print it.\n",
    "\n",
    "\n",
    "- **Hint:**\n",
    "    - How to use **for loop** to get every item inside a list:\n",
    "        ```python\n",
    "        for item in items:\n",
    "            #the variable item will store a item inside the items list\n",
    "            #you can use the variable item to do the comparison using the if statement. \n",
    "            \n",
    "        ```\n",
    "    - How to check if the name in the list is the same as a name string?\n",
    "        ```python\n",
    "        if name == \"minecraft\":\n",
    "            print(\"The game is there!\")\n",
    "        ```    "
   ]
  },
  {
   "cell_type": "code",
   "execution_count": null,
   "id": "regular-welding",
   "metadata": {},
   "outputs": [],
   "source": [
    "\n",
    "\n"
   ]
  }
 ],
 "metadata": {
  "kernelspec": {
   "display_name": "Python 3",
   "language": "python",
   "name": "python3"
  },
  "language_info": {
   "codemirror_mode": {
    "name": "ipython",
    "version": 3
   },
   "file_extension": ".py",
   "mimetype": "text/x-python",
   "name": "python",
   "nbconvert_exporter": "python",
   "pygments_lexer": "ipython3",
   "version": "3.8.5"
  }
 },
 "nbformat": 4,
 "nbformat_minor": 5
}
