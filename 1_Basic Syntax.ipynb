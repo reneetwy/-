{
 "cells": [
  {
   "cell_type": "markdown",
   "metadata": {},
   "source": [
    "## Task 1👾\n",
    "- Assign **two variables** (first_name and last_name) and **print** full_name by **concatenate** (+) first_name and last_name together."
   ]
  },
  {
   "cell_type": "code",
   "execution_count": null,
   "metadata": {},
   "outputs": [],
   "source": []
  },
  {
   "cell_type": "markdown",
   "metadata": {},
   "source": [
    "## Task 2🦄\n",
    "- Use **'input()'** to **ask the user's name**.\n",
    "- Assign the **input result** to a **variable**. \n",
    "- **Print** the \"Hello,\" + **variable**."
   ]
  },
  {
   "cell_type": "code",
   "execution_count": null,
   "metadata": {},
   "outputs": [],
   "source": []
  },
  {
   "cell_type": "markdown",
   "metadata": {},
   "source": [
    "## Task 3🧶\n",
    "- Create **a variable** equals to the value **\"Hello\"** and create **another variable** equals to the value **\" world.\"**. \n",
    "- **Concatenate** (+) these two variable together and **print** the result."
   ]
  },
  {
   "cell_type": "code",
   "execution_count": 3,
   "metadata": {},
   "outputs": [
    {
     "name": "stdout",
     "output_type": "stream",
     "text": [
      "Hello world.\n"
     ]
    }
   ],
   "source": []
  },
  {
   "cell_type": "markdown",
   "metadata": {},
   "source": [
    "## Task 4🐣\n",
    "- Write a **comment**. (🔑 Hint: #)"
   ]
  },
  {
   "cell_type": "code",
   "execution_count": 19,
   "metadata": {},
   "outputs": [],
   "source": []
  },
  {
   "cell_type": "markdown",
   "metadata": {},
   "source": [
    "## Task 5🍄\n",
    "- **If** user **input** \"pencil?\", the program will **print** \"RMB 5.\".\n",
    "- **Else if** when user **input** \"eraser?\", the program will **print** \"RMB 6.\"."
   ]
  },
  {
   "cell_type": "code",
   "execution_count": null,
   "metadata": {},
   "outputs": [],
   "source": []
  },
  {
   "cell_type": "markdown",
   "metadata": {},
   "source": [
    "## Final Task🌊\n",
    "🦸🏻‍♂️ The last mission won't be easy - Let's make a text-based game! 🤩"
   ]
  },
  {
   "cell_type": "markdown",
   "metadata": {},
   "source": [
    "### STEP1️⃣ : Import\n",
    "- **Import** a module called 'random' by running the following code.\n",
    "- Don't worry, you will learn more detail about what module is."
   ]
  },
  {
   "cell_type": "code",
   "execution_count": 1,
   "metadata": {},
   "outputs": [],
   "source": []
  },
  {
   "cell_type": "markdown",
   "metadata": {},
   "source": [
    "### STEP2️⃣: Try the 'random.randint(a,b)' code\n",
    "- This code can give **\"a random number between a and b\"** to you.\n",
    "- Try the code in the following block and **check what number you can get**~🤩"
   ]
  },
  {
   "cell_type": "code",
   "execution_count": 2,
   "metadata": {},
   "outputs": [
    {
     "name": "stdout",
     "output_type": "stream",
     "text": [
      "9\n"
     ]
    }
   ],
   "source": []
  },
  {
   "cell_type": "markdown",
   "metadata": {},
   "source": [
    "### STEP3️⃣ : Build the Game\n",
    "1. Ask the player to **input** his/her name:\n",
    "    - \"Welcome to the dungeon. What's your name, warrior?\"\n",
    "    \n",
    "2. **Print** the text with player's name:\n",
    "    - \"Ok,\"+player's name+\", you meet a dragon!\"\n",
    "    \n",
    "3. Ask player to **input** 'Fight!' to fight with the dragon.\n",
    "    - \"Input 'Fight!' to start fight!\"\n",
    "4. Use random.randint(0,6) to get a random number.\n",
    "    - **if** the number is bigger than 3:\n",
    "        - **print** player's name+\", you beat the dragon!\".\n",
    "    - **else if** the number is not bigger than 3:\n",
    "        - **print** player's name+\", you are defeated by the dragon!\"."
   ]
  },
  {
   "cell_type": "code",
   "execution_count": null,
   "metadata": {},
   "outputs": [],
   "source": []
  },
  {
   "cell_type": "code",
   "execution_count": null,
   "metadata": {},
   "outputs": [],
   "source": []
  }
 ],
 "metadata": {
  "kernelspec": {
   "display_name": "Python 3",
   "language": "python",
   "name": "python3"
  },
  "language_info": {
   "codemirror_mode": {
    "name": "ipython",
    "version": 3
   },
   "file_extension": ".py",
   "mimetype": "text/x-python",
   "name": "python",
   "nbconvert_exporter": "python",
   "pygments_lexer": "ipython3",
   "version": "3.8.5"
  }
 },
 "nbformat": 4,
 "nbformat_minor": 4
}
