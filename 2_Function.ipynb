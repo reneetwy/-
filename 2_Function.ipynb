{
 "cells": [
  {
   "cell_type": "markdown",
   "id": "global-bennett",
   "metadata": {},
   "source": [
    "# Task 1🧶\n",
    "- Write a function called **\"PrintName\"** that can **print** your name (🔑Hint: you can change the contents in print to your name in the example)\n",
    "    - Example: \n",
    "    ```python\n",
    "    def MyFunction_Name():\n",
    "        print(\"My Function.\")\n",
    "            \n",
    "    ```"
   ]
  },
  {
   "cell_type": "code",
   "execution_count": 5,
   "id": "inclusive-passion",
   "metadata": {},
   "outputs": [
    {
     "name": "stdin",
     "output_type": "stream",
     "text": [
      "What's your name Renee\n"
     ]
    },
    {
     "name": "stdout",
     "output_type": "stream",
     "text": [
      "Hello, Renee\n"
     ]
    }
   ],
   "source": []
  },
  {
   "cell_type": "markdown",
   "id": "numerous-comment",
   "metadata": {},
   "source": [
    "# Task 2😋\n",
    "- **Call** your **“PrintName”** function.\n",
    "    - Example: \n",
    "    ```python\n",
    "    MyFunction_Name()\n",
    "    ```"
   ]
  },
  {
   "cell_type": "code",
   "execution_count": 6,
   "id": "visible-winter",
   "metadata": {},
   "outputs": [
    {
     "name": "stdin",
     "output_type": "stream",
     "text": [
      "What's your name Renee\n"
     ]
    },
    {
     "name": "stdout",
     "output_type": "stream",
     "text": [
      "Hello, Renee\n"
     ]
    }
   ],
   "source": []
  },
  {
   "cell_type": "markdown",
   "id": "incomplete-silly",
   "metadata": {},
   "source": [
    "# Task 3🕵🏻‍♂️\n",
    "- Create another function called **\"Translator(Text)\"**, to translate simple English into Chinese.\n",
    "- Example: \n",
    "    ```\n",
    "    If you *input* \"Hello!\", the function can translate it into \"你好!\".\n",
    "    ```\n",
    "    \n",
    "- **Call** the function after you complete the codes.\n",
    "    - Be careful of the **indentation**.\n",
    "    \n",
    "    \n",
    "- 🔑 Hint:\n",
    "    - Use **if** statement\n",
    "    - The **input()** function is the **argument 'Text'** of the function \"Translator\" when it is called.\n",
    "    - Requirement:\n",
    "    ```\n",
    "    Fill your translator with at least 5️⃣ English words or sentences and its Chinese meanings.\n",
    "    ```"
   ]
  },
  {
   "cell_type": "code",
   "execution_count": null,
   "id": "differential-keyboard",
   "metadata": {},
   "outputs": [],
   "source": []
  },
  {
   "cell_type": "markdown",
   "id": "colonial-barbados",
   "metadata": {},
   "source": [
    "# Task 4🌸\n",
    "- Make a **calculator**.\n"
   ]
  },
  {
   "cell_type": "markdown",
   "id": "automated-spanish",
   "metadata": {},
   "source": [
    "### STEP1️⃣:\n",
    "- Create functions for add, minus, multiple and divide.\n",
    "- Function names:\n",
    "    ```\n",
    "        Add(number1,number2)\n",
    "        Minus(number1,number2)\n",
    "        Multiple(number1,number2)\n",
    "        Divide(number1,number2)\n",
    "    ```\n",
    "- **Return** the result."
   ]
  },
  {
   "cell_type": "code",
   "execution_count": 2,
   "id": "bibliographic-bruce",
   "metadata": {},
   "outputs": [],
   "source": []
  },
  {
   "cell_type": "markdown",
   "id": "indonesian-canvas",
   "metadata": {},
   "source": [
    "### STEP2️⃣:\n",
    "- Create a **calculator** function called \"Calculator(number1,operator,number2)\".\n",
    "- requirement:\n",
    "    - Use **if statement** to choose which functions to call.\n",
    "    ```\n",
    "    Example:\n",
    "    Calculator(1,\"+\",2) will call Add(1,2).\n",
    "    Calculator(1,\"-\",2) will call Minus(1,2).\n",
    "    Calculator(1,\"*\",2) will call Multiple(1,2).\n",
    "    Calculator(1,\"/\",2) will call Divide(1,2).\n",
    "    ```\n",
    "    - **print** the calculation result.\n",
    "    \n",
    "- **Call** the calculator function.\n",
    "    "
   ]
  },
  {
   "cell_type": "code",
   "execution_count": null,
   "id": "sustained-character",
   "metadata": {},
   "outputs": [],
   "source": []
  },
  {
   "cell_type": "markdown",
   "id": "composite-thunder",
   "metadata": {},
   "source": [
    "# Homework🐶\n",
    "\n",
    "- Create a **variable call \"door_status\"** and it is assigned with the value \"close\".\n",
    "- Write a **function** called **\"DoorController ( command, door_status )\"** to **control the Door open or close**.\n",
    "\n",
    "## Step 1. Write the conditions based on the followings:\n",
    "- if parameter \"command\" of the function equals to **\"open\"**, then check the door_status:\n",
    "    - if the 'door_status' aready equals to \"open\":\n",
    "        - **print** \"the Door is already opened.\"\n",
    "    - if the 'door_status' does not equal to \"open\":\n",
    "        - **print** \"Open the Door.\"\n",
    "        - change **'door_status'** to **\"open\"**.\n",
    "- if parameter \"command\" of the function equals to **\"close\"**, then check the door_status:\n",
    "    - if the 'door_status' aready equals to \"close\":\n",
    "        - **print** \"the Door is already closed.\"\n",
    "    - if the 'door_status' does not equal to close:\n",
    "        - **print** \"Close the Door.\"\n",
    "        - change **'door_status'** to **\"close\"**.\n",
    "\n",
    "## Step 2. After completing the function, run it with \"open\" or \"close\" and print the variable \"door_status\".\n"
   ]
  },
  {
   "cell_type": "code",
   "execution_count": null,
   "id": "steady-parliament",
   "metadata": {},
   "outputs": [],
   "source": []
  }
 ],
 "metadata": {
  "kernelspec": {
   "display_name": "Python 3",
   "language": "python",
   "name": "python3"
  },
  "language_info": {
   "codemirror_mode": {
    "name": "ipython",
    "version": 3
   },
   "file_extension": ".py",
   "mimetype": "text/x-python",
   "name": "python",
   "nbconvert_exporter": "python",
   "pygments_lexer": "ipython3",
   "version": "3.9.1"
  }
 },
 "nbformat": 4,
 "nbformat_minor": 5
}
